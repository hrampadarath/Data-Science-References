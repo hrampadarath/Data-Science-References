{
 "cells": [
  {
   "cell_type": "markdown",
   "metadata": {},
   "source": [
    "## FACEIT Data Science Challenge\n",
    "\n",
    "### Q2: Data Exploration\n",
    "\n",
    "\n",
    "#### Load the data"
   ]
  },
  {
   "cell_type": "code",
   "execution_count": 2,
   "metadata": {},
   "outputs": [],
   "source": [
    "import pandas as pd"
   ]
  },
  {
   "cell_type": "code",
   "execution_count": 3,
   "metadata": {},
   "outputs": [
    {
     "data": {
      "text/html": [
       "<div>\n",
       "<style scoped>\n",
       "    .dataframe tbody tr th:only-of-type {\n",
       "        vertical-align: middle;\n",
       "    }\n",
       "\n",
       "    .dataframe tbody tr th {\n",
       "        vertical-align: top;\n",
       "    }\n",
       "\n",
       "    .dataframe thead th {\n",
       "        text-align: right;\n",
       "    }\n",
       "</style>\n",
       "<table border=\"1\" class=\"dataframe\">\n",
       "  <thead>\n",
       "    <tr style=\"text-align: right;\">\n",
       "      <th></th>\n",
       "      <th>user_id</th>\n",
       "      <th>first_day</th>\n",
       "      <th>latest_day</th>\n",
       "      <th>lifespan</th>\n",
       "      <th>client</th>\n",
       "      <th>membership_type</th>\n",
       "      <th>joined_at_least_1_hub</th>\n",
       "    </tr>\n",
       "  </thead>\n",
       "  <tbody>\n",
       "    <tr>\n",
       "      <th>0</th>\n",
       "      <td>594132bd-7b3e-4ec4-b752-06ee1711d297</td>\n",
       "      <td>2017-10-11</td>\n",
       "      <td>2017-10-11</td>\n",
       "      <td>0</td>\n",
       "      <td>new_client</td>\n",
       "      <td>free</td>\n",
       "      <td>NaN</td>\n",
       "    </tr>\n",
       "    <tr>\n",
       "      <th>1</th>\n",
       "      <td>533f08c8-e1ee-4925-96d9-9aeeba55b5ba</td>\n",
       "      <td>2017-10-11</td>\n",
       "      <td>2017-10-11</td>\n",
       "      <td>0</td>\n",
       "      <td>new_client</td>\n",
       "      <td>free</td>\n",
       "      <td>NaN</td>\n",
       "    </tr>\n",
       "    <tr>\n",
       "      <th>2</th>\n",
       "      <td>0840ad75-5337-4193-8cf8-0348b126e697</td>\n",
       "      <td>2017-10-11</td>\n",
       "      <td>2017-10-11</td>\n",
       "      <td>0</td>\n",
       "      <td>web_client</td>\n",
       "      <td>free</td>\n",
       "      <td>NaN</td>\n",
       "    </tr>\n",
       "    <tr>\n",
       "      <th>3</th>\n",
       "      <td>6e51c17f-4a81-4bb9-9f35-f0e2839da86e</td>\n",
       "      <td>2017-10-11</td>\n",
       "      <td>2017-10-11</td>\n",
       "      <td>0</td>\n",
       "      <td>new_client</td>\n",
       "      <td>free</td>\n",
       "      <td>1.0</td>\n",
       "    </tr>\n",
       "    <tr>\n",
       "      <th>4</th>\n",
       "      <td>f0dde747-b394-4a75-a74f-5e4adec18a28</td>\n",
       "      <td>2017-10-11</td>\n",
       "      <td>2017-10-11</td>\n",
       "      <td>0</td>\n",
       "      <td>new_client</td>\n",
       "      <td>free</td>\n",
       "      <td>NaN</td>\n",
       "    </tr>\n",
       "  </tbody>\n",
       "</table>\n",
       "</div>"
      ],
      "text/plain": [
       "                                user_id  first_day latest_day  lifespan  \\\n",
       "0  594132bd-7b3e-4ec4-b752-06ee1711d297 2017-10-11 2017-10-11         0   \n",
       "1  533f08c8-e1ee-4925-96d9-9aeeba55b5ba 2017-10-11 2017-10-11         0   \n",
       "2  0840ad75-5337-4193-8cf8-0348b126e697 2017-10-11 2017-10-11         0   \n",
       "3  6e51c17f-4a81-4bb9-9f35-f0e2839da86e 2017-10-11 2017-10-11         0   \n",
       "4  f0dde747-b394-4a75-a74f-5e4adec18a28 2017-10-11 2017-10-11         0   \n",
       "\n",
       "       client membership_type  joined_at_least_1_hub  \n",
       "0  new_client            free                    NaN  \n",
       "1  new_client            free                    NaN  \n",
       "2  web_client            free                    NaN  \n",
       "3  new_client            free                    1.0  \n",
       "4  new_client            free                    NaN  "
      ]
     },
     "execution_count": 3,
     "metadata": {},
     "output_type": "execute_result"
    }
   ],
   "source": [
    "df = pd.read_excel(\"client__1_.xlsx\")\n",
    "df.head()"
   ]
  },
  {
   "cell_type": "markdown",
   "metadata": {},
   "source": [
    "The hypothesis to tests is:\n",
    "\n",
    "H0: The *proportion* of users who used the new client *and* joined at least 1 hub is larger than the *proportion* of users who are using the old web client *and* joined at least one hub.\n",
    "\n",
    "Let's first get some numbers"
   ]
  },
  {
   "cell_type": "code",
   "execution_count": 14,
   "metadata": {},
   "outputs": [
    {
     "data": {
      "text/plain": [
       "3305"
      ]
     },
     "execution_count": 14,
     "metadata": {},
     "output_type": "execute_result"
    }
   ],
   "source": [
    "# Total number of users\n",
    "Total = df.shape[0]\n",
    "Total"
   ]
  },
  {
   "cell_type": "code",
   "execution_count": 15,
   "metadata": {},
   "outputs": [
    {
     "data": {
      "text/plain": [
       "0.5473524962178518"
      ]
     },
     "execution_count": 15,
     "metadata": {},
     "output_type": "execute_result"
    }
   ],
   "source": [
    "# The proportion of users that used the new client: P(new_client)\n",
    "P_new_client = sum(df[\"client\"] == \"new_client\")/df.shape[0]\n",
    "P_new_client"
   ]
  },
  {
   "cell_type": "code",
   "execution_count": 16,
   "metadata": {},
   "outputs": [
    {
     "data": {
      "text/plain": [
       "0.45264750378214824"
      ]
     },
     "execution_count": 16,
     "metadata": {},
     "output_type": "execute_result"
    }
   ],
   "source": [
    "# the web client: P(web_client)\n",
    "P_web_client = sum(df[\"client\"] == \"web_client\")/df.shape[0]\n",
    "P_web_client"
   ]
  },
  {
   "cell_type": "code",
   "execution_count": 17,
   "metadata": {},
   "outputs": [
    {
     "data": {
      "text/plain": [
       "0.8502269288956127"
      ]
     },
     "execution_count": 17,
     "metadata": {},
     "output_type": "execute_result"
    }
   ],
   "source": [
    "# The poportion of users that actually joined at least 1 hub: P(joined)\n",
    "P_joined = sum(df[\"joined_at_least_1_hub\"] == 1)/df.shape[0]\n",
    "P_joined"
   ]
  },
  {
   "cell_type": "code",
   "execution_count": 20,
   "metadata": {},
   "outputs": [
    {
     "data": {
      "text/plain": [
       "0.44590747330960856"
      ]
     },
     "execution_count": 20,
     "metadata": {},
     "output_type": "execute_result"
    }
   ],
   "source": [
    "# the porportion of users that joined at least 1 hub, that used the web client: P(joined_1_hub|web_client)\n",
    "df_joined = df[df[\"joined_at_least_1_hub\"] == 1]\n",
    "P_joined_web_client = sum(df_joined[\"client\"] == \"web_client\")/df_joined.shape[0]\n",
    "P_joined_web_client"
   ]
  },
  {
   "cell_type": "code",
   "execution_count": 21,
   "metadata": {},
   "outputs": [
    {
     "data": {
      "text/plain": [
       "0.5540925266903914"
      ]
     },
     "execution_count": 21,
     "metadata": {},
     "output_type": "execute_result"
    }
   ],
   "source": [
    "# the porportion of users that joined at least 1 hub, that used the new client: P(joined_1_hub|new_client)\n",
    "P_joined_new_client = sum(df_joined[\"client\"] == \"new_client\")/df_joined.shape[0]\n",
    "P_joined_new_client"
   ]
  },
  {
   "cell_type": "markdown",
   "metadata": {},
   "source": [
    "To inspect the null hypothesis, we need to determine the *proportion* of users who used the new client *and* joined at least 1 hub. Using the Bayes Formula:\n",
    "\n",
    "P(A|B) = P(B|A) * P(A) / P(B)\n",
    "\n",
    "Where:\n",
    "A = client (new client or web client)\n",
    "B = joined\n",
    "Thus we rewrite the above forula as:\n",
    "\n",
    "P(client|joined) = P(joined|client) * P(client) / P(joined)\n",
    "\n",
    "Substituting the values we computed above we get:"
   ]
  },
  {
   "cell_type": "code",
   "execution_count": 22,
   "metadata": {},
   "outputs": [
    {
     "data": {
      "text/plain": [
       "0.3567093881789744"
      ]
     },
     "execution_count": 22,
     "metadata": {},
     "output_type": "execute_result"
    }
   ],
   "source": [
    "P_new_client_joined = (P_joined_new_client * P_new_client) / P_joined\n",
    "P_new_client_joined"
   ]
  },
  {
   "cell_type": "code",
   "execution_count": 23,
   "metadata": {},
   "outputs": [
    {
     "data": {
      "text/plain": [
       "0.23739415660895885"
      ]
     },
     "execution_count": 23,
     "metadata": {},
     "output_type": "execute_result"
    }
   ],
   "source": [
    "P_web_client_joined = (P_joined_web_client * P_web_client) / P_joined\n",
    "P_web_client_joined"
   ]
  },
  {
   "cell_type": "markdown",
   "metadata": {},
   "source": [
    "### FeedbacK\n",
    "\n",
    "Since P_new_client_joined > P_web_client_joined, we have failed to reject the null hypothesis. Thus, based upon the subset of users in this dataset, the null hypothesis holds. "
   ]
  }
 ],
 "metadata": {
  "kernelspec": {
   "display_name": "Python 3",
   "language": "python",
   "name": "python3"
  },
  "language_info": {
   "codemirror_mode": {
    "name": "ipython",
    "version": 3
   },
   "file_extension": ".py",
   "mimetype": "text/x-python",
   "name": "python",
   "nbconvert_exporter": "python",
   "pygments_lexer": "ipython3",
   "version": "3.7.7"
  }
 },
 "nbformat": 4,
 "nbformat_minor": 4
}
